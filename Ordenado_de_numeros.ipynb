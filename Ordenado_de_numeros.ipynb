{
  "nbformat": 4,
  "nbformat_minor": 0,
  "metadata": {
    "colab": {
      "provenance": [],
      "authorship_tag": "ABX9TyNcf/oS54XVZiUwpCr5Gu+g",
      "include_colab_link": true
    },
    "kernelspec": {
      "name": "python3",
      "display_name": "Python 3"
    },
    "language_info": {
      "name": "python"
    }
  },
  "cells": [
    {
      "cell_type": "markdown",
      "metadata": {
        "id": "view-in-github",
        "colab_type": "text"
      },
      "source": [
        "<a href=\"https://colab.research.google.com/github/w3che/Ingenieria-de-Software/blob/main/Ordenado_de_numeros.ipynb\" target=\"_parent\"><img src=\"https://colab.research.google.com/assets/colab-badge.svg\" alt=\"Open In Colab\"/></a>"
      ]
    },
    {
      "cell_type": "code",
      "execution_count": 30,
      "metadata": {
        "colab": {
          "base_uri": "https://localhost:8080/"
        },
        "id": "2QUZ-WlGSm1n",
        "outputId": "a3cbd316-80b4-486c-e93b-4916f5acea85"
      },
      "outputs": [
        {
          "output_type": "stream",
          "name": "stdout",
          "text": [
            "Cuantos numeros quieres introducir? 2\n",
            "Introduce el numero: 3\n",
            "Introduce el numero: 1\n",
            "[1, 3]\n"
          ]
        }
      ],
      "source": [
        "x = 0\n",
        "numeros = []\n",
        "\n",
        "introducir = int(input(\"Cuantos numeros quieres introducir? \")) #El programa nos pregunta cuantos numeros queremos ingresar\n",
        "for x in range(introducir): #Se crea el bucle que se repite dependiendo de el numero ingresemos antes\n",
        "    valor = int(input(\"Introduce el numero: \")) #Nos solicita los numeros\n",
        "    numeros.append(valor) #Rellena el arreglo con los numeros que ingresemos\n",
        "numeros.sort()#Ordena el arreglo de menor a mayor\n",
        "print(numeros)#Imprime el resultado"
      ]
    }
  ]
}