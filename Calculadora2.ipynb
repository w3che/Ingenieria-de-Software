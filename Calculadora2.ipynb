{
  "nbformat": 4,
  "nbformat_minor": 0,
  "metadata": {
    "colab": {
      "provenance": [],
      "authorship_tag": "ABX9TyPkg+h+xXItS/Qyue9TyUwd",
      "include_colab_link": true
    },
    "kernelspec": {
      "name": "python3",
      "display_name": "Python 3"
    },
    "language_info": {
      "name": "python"
    }
  },
  "cells": [
    {
      "cell_type": "markdown",
      "metadata": {
        "id": "view-in-github",
        "colab_type": "text"
      },
      "source": [
        "<a href=\"https://colab.research.google.com/github/w3che/Ingenieria-de-Software/blob/main/Calculadora2.ipynb\" target=\"_parent\"><img src=\"https://colab.research.google.com/assets/colab-badge.svg\" alt=\"Open In Colab\"/></a>"
      ]
    },
    {
      "cell_type": "code",
      "execution_count": null,
      "metadata": {
        "id": "38W8Jbt7XX0c"
      },
      "outputs": [],
      "source": [
        "def introducirNumeros():\n",
        "  global num1, num2\n",
        "  while True:\n",
        "    try:\n",
        "      num1 = int(input(\"Ingresa el primer número: \"))\n",
        "      num2 = int(input(\"Ingresa el segundo número: \"))\n",
        "      return num1, num2\n",
        "    except ValueError:\n",
        "      print(\"Error: Ingresa números válidos.\")\n",
        "\n",
        "def suma(a, b):\n",
        "  print(\"La suma de\", a, \"+\", b, \"=\", a + b)\n",
        "\n",
        "def resta(a, b):\n",
        "  print(\"La resta de\", a, \"-\", b, \"=\", a - b)\n",
        "\n",
        "def multiplicacion(a, b):\n",
        "  print(\"La multiplicación de\", a, \"*\", b, \"=\", a * b)\n",
        "\n",
        "def division(a, b):\n",
        "  try:\n",
        "    result = a / b\n",
        "    print(\"La división de\", a, \"/\", b, \"=\", result)\n",
        "  except ZeroDivisionError:\n",
        "    print(\"Error: No se puede dividir entre cero\")\n",
        "\n",
        "while True:\n",
        "  print(\"\"\"\n",
        "  Que operacion quieres realiza:\n",
        "  1) Sumar\n",
        "  2) Restar\n",
        "  3) Multiplicar\n",
        "  4) Dividir\n",
        "  5) Salir\n",
        "  \"\"\")\n",
        "  opcion = int(input())\n",
        "\n",
        "  if opcion == 1:\n",
        "    introducirNumeros()\n",
        "    suma (num1, num2)\n",
        "  elif opcion == 2:\n",
        "    introducirNumeros()\n",
        "    resta (num1, num2)\n",
        "  elif opcion == 3:\n",
        "    introducirNumeros()\n",
        "    multiplicacion (num1, num2)\n",
        "  elif opcion == 4:\n",
        "    introducirNumeros()\n",
        "    division (num1, num2)\n",
        "  elif opcion == 5:\n",
        "    print (\"Adios\")\n",
        "    break"
      ]
    }
  ]
}