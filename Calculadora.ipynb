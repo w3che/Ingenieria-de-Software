{
  "nbformat": 4,
  "nbformat_minor": 0,
  "metadata": {
    "colab": {
      "provenance": [],
      "authorship_tag": "ABX9TyPlvbyKYXBdteBc4C9+OenA",
      "include_colab_link": true
    },
    "kernelspec": {
      "name": "python3",
      "display_name": "Python 3"
    },
    "language_info": {
      "name": "python"
    }
  },
  "cells": [
    {
      "cell_type": "markdown",
      "metadata": {
        "id": "view-in-github",
        "colab_type": "text"
      },
      "source": [
        "<a href=\"https://colab.research.google.com/github/w3che/Ingenieria-de-Software/blob/main/Calculadora.ipynb\" target=\"_parent\"><img src=\"https://colab.research.google.com/assets/colab-badge.svg\" alt=\"Open In Colab\"/></a>"
      ]
    },
    {
      "cell_type": "code",
      "execution_count": null,
      "metadata": {
        "id": "6RI7bmOdqjnJ"
      },
      "outputs": [],
      "source": [
        "def introducirNumeros ():\n",
        "  global num1, num2\n",
        "  num1 = int(input(\"Ingresa el primer numero: \"))\n",
        "  num2 = int(input(\"Ingresa el segundo numero: \"))\n",
        "\n",
        "def suma (a,b):\n",
        "  print (\"La suma de \", a, \" + \", b, \" = \", a+b)\n",
        "\n",
        "def resta (a,b):\n",
        "  print (\"La resta de \", a, \" - \", b, \" = \", a-b)\n",
        "\n",
        "def multiplicacion (a,b):\n",
        "  print (\"La multiplicacion de \", a, \" * \", b, \" = \", a*b)\n",
        "\n",
        "def division (a,b):\n",
        "  if b == 0:\n",
        "    print (\"No se puede dividir entre cero\")\n",
        "  else:\n",
        "    print (\"La division de \", a, \" / \", b, \" = \", a/b)\n",
        "\n",
        "while True:\n",
        "  print(\"\"\"\n",
        "  Que operacion quieres realiza:\n",
        "  1) Sumar\n",
        "  2) Restar\n",
        "  3) Multiplicar\n",
        "  4) Dividir\n",
        "  5) Salir\n",
        "  \"\"\")\n",
        "  opcion = int(input())\n",
        "\n",
        "  if opcion == 1:\n",
        "    introducirNumeros()\n",
        "    suma (num1, num2)\n",
        "  elif opcion == 2:\n",
        "    introducirNumeros()\n",
        "    resta (num1, num2)\n",
        "  elif opcion == 3:\n",
        "    introducirNumeros()\n",
        "    multiplicacion (num1, num2)\n",
        "  elif opcion == 4:\n",
        "    introducirNumeros()\n",
        "    division (num1, num2)\n",
        "  elif opcion == 5:\n",
        "    print (\"Adios\")\n",
        "    break\n"
      ]
    }
  ]
}